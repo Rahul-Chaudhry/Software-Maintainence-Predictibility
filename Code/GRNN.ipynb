{
 "cells": [
  {
   "cell_type": "code",
   "execution_count": 18,
   "metadata": {},
   "outputs": [
    {
     "name": "stderr",
     "output_type": "stream",
     "text": [
      "C:\\Users\\rahul\\anaconda3\\envs\\keras\\lib\\site-packages\\ipykernel_launcher.py:28: UserWarning: Update your `Dense` call to the Keras 2 API: `Dense(71, input_dim=10, activation=\"softplus\", kernel_initializer=\"normal\")`\n",
      "C:\\Users\\rahul\\anaconda3\\envs\\keras\\lib\\site-packages\\ipykernel_launcher.py:29: UserWarning: Update your `Dense` call to the Keras 2 API: `Dense(1, kernel_initializer=\"normal\")`\n"
     ]
    }
   ],
   "source": [
    "import copy\n",
    "import numpy\n",
    "import pandas as pd\n",
    "from keras.layers import Dense\n",
    "from keras.models import Sequential\n",
    "from keras.wrappers.scikit_learn import BaseWrapper\n",
    "from keras.wrappers.scikit_learn import KerasRegressor\n",
    "from sklearn.model_selection import KFold\n",
    "from sklearn import metrics\n",
    "from sklearn.model_selection import train_test_split\n",
    "from sklearn.metrics import r2_score\n",
    "import numpy as np\n",
    "from sklearn.metrics import accuracy_score\n",
    "\n",
    "\n",
    "\n",
    "def custom_get_params(self, **params):\n",
    "    res = copy.deepcopy(self.sk_params)\n",
    "    res.update({'build_fn': self.build_fn})\n",
    "    return res\n",
    "\n",
    "\n",
    "BaseWrapper.get_params = custom_get_params\n",
    "\n",
    "\n",
    "def baseline_model():\n",
    "    model = Sequential()\n",
    "    model.add(Dense(71, input_dim=10, init='normal', activation='softplus'))\n",
    "    model.add(Dense(1, init='normal'))\n",
    "    model.compile(loss='mean_squared_error', optimizer='adam')\n",
    "    return model\n",
    "\n",
    "\n",
    "\n",
    "df = pd.read_csv('QUES.csv')  \n",
    "features = ['dit', 'noc', 'mpc', 'rfc','lcom','dac','wmc','nom','size2','size1']\n",
    "X = df.loc[:, features].values\n",
    "Y = df.loc[:,['change']].values\n",
    "\n",
    "x_train, x_test, y_train, y_test = train_test_split( X, Y, test_size=0.2, random_state=0)\n",
    "\n",
    "\n",
    "# from sklearn.preprocessing import StandardScaler\n",
    "# scaler = StandardScaler()\n",
    "# # Fit on training set only.\n",
    "# scaler.fit(x_train)\n",
    "# # Apply transform to both the training set and the test set.\n",
    "# x_train = scaler.transform(x_train)\n",
    "# x_test = scaler.transform(x_test)\n",
    "\n",
    "# from sklearn.decomposition import PCA\n",
    "# # Make an instance of the Model\n",
    "\n",
    "# pca = PCA(.95)\n",
    "# #Notice the code below has .95 for the number of components parameter. \n",
    "# #It means that scikit-learn choose the minimum number of principal components such that 95% of the variance is retained.\n",
    "# pca.fit(x_train)\n",
    "# x_train = pca.transform(x_train)\n",
    "# x_test = pca.transform(x_test)\n",
    "\n",
    "\n",
    "seed = 7\n",
    "numpy.random.seed(seed)\n",
    "estimator = KerasRegressor(build_fn=baseline_model, nb_epoch=1100, batch_size=5, verbose=0)\n",
    "\n",
    "\n",
    "estimator.fit(X, Y)\n",
    "prediction = estimator.predict(x_test)\n",
    "prediction=prediction.astype(\"int32\")\n",
    "\n",
    "y_test=y_test.astype(\"int32\")"
   ]
  },
  {
   "cell_type": "code",
   "execution_count": 19,
   "metadata": {},
   "outputs": [
    {
     "name": "stdout",
     "output_type": "stream",
     "text": [
      "Model Accuracy: 0.0\n",
      "Mean Absolute Error: 64.26666666666667\n",
      "Mean Squared Error: 6120.133333333333\n",
      "Root Mean Squared Error: 78.23128104111126\n",
      "R Squared Error: -1.7779279570066007\n"
     ]
    }
   ],
   "source": [
    "print(\"Model Accuracy:\",metrics.accuracy_score(y_test, prediction)*100)\n",
    "print('Mean Absolute Error:', metrics.mean_absolute_error(y_test, prediction))  \n",
    "print('Mean Squared Error:', metrics.mean_squared_error(y_test, prediction))  \n",
    "print('Root Mean Squared Error:', np.sqrt(metrics.mean_squared_error(y_test, prediction)))\n",
    "print('R Squared Error:', r2_score( y_test,prediction))"
   ]
  },
  {
   "cell_type": "code",
   "execution_count": null,
   "metadata": {},
   "outputs": [],
   "source": []
  }
 ],
 "metadata": {
  "kernelspec": {
   "display_name": "Python 3 (ipykernel)",
   "language": "python",
   "name": "python3"
  },
  "language_info": {
   "codemirror_mode": {
    "name": "ipython",
    "version": 3
   },
   "file_extension": ".py",
   "mimetype": "text/x-python",
   "name": "python",
   "nbconvert_exporter": "python",
   "pygments_lexer": "ipython3",
   "version": "3.9.12"
  }
 },
 "nbformat": 4,
 "nbformat_minor": 4
}
