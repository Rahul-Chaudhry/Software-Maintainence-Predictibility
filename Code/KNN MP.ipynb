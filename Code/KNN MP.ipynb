{
 "cells": [
  {
   "cell_type": "code",
   "execution_count": 93,
   "metadata": {},
   "outputs": [
    {
     "name": "stdout",
     "output_type": "stream",
     "text": [
      "30.693455671126323\n",
      "Mean Absolute Error: 28.216666666666665\n",
      "Mean Squared Error: 1526.9125\n",
      "Root Mean Squared Error: 39.07572776033736\n",
      "R Squared Error: 0.30693455671126324\n"
     ]
    }
   ],
   "source": [
    "import numpy as np  \n",
    "from sklearn.neighbors import KNeighborsRegressor\n",
    "import pandas as pd \n",
    "from sklearn.model_selection import train_test_split \n",
    "from sklearn.metrics import r2_score\n",
    "from sklearn import metrics\n",
    "\n",
    "df = pd.read_csv('QUES.csv')  \n",
    "features = ['dit', 'noc', 'mpc', 'rfc','lcom','dac','wmc','nom','size2','size1']\n",
    "X = df.loc[:, features].values\n",
    "Y = df.loc[:,['change']].values\n",
    "\n",
    "from sklearn.model_selection import train_test_split\n",
    "x_train, x_test,y_train, y_test = train_test_split( X, Y, test_size=0.2, random_state=0)\n",
    "\n",
    "# from sklearn.preprocessing import StandardScaler\n",
    "# scaler = StandardScaler()\n",
    "# scaler.fit(x_train)\n",
    "# x_train = scaler.transform(x_train)\n",
    "# x_test = scaler.transform(x_test)\n",
    "\n",
    "# from sklearn.decomposition import PCA\n",
    "# pca = PCA(.95)\n",
    "# #Notice the code below has .95 for the number of components parameter. \n",
    "# #It means that scikit-learn choose the minimum number of principal components such that 95% of the variance is retained.\n",
    "# pca.fit(x_train)\n",
    "# x_train = pca.transform(x_train)\n",
    "# x_test = pca.transform(x_test)\n",
    "\n",
    "\n",
    "knn = KNeighborsRegressor(n_neighbors=4)\n",
    "knn=knn.fit(x_train, y_train)\n",
    "y_pred=knn.predict(x_test[0:20])\n",
    "\n",
    "print(knn.score(x_test, y_test)*100)\n",
    "\n",
    "print('Mean Absolute Error:', metrics.mean_absolute_error(y_test, y_pred))  \n",
    "print('Mean Squared Error:', metrics.mean_squared_error(y_test, y_pred))  \n",
    "print('Root Mean Squared Error:', np.sqrt(metrics.mean_squared_error(y_test, y_pred)))\n",
    "print('R Squared Error:', r2_score(y_test, y_pred))\n"
   ]
  },
  {
   "cell_type": "code",
   "execution_count": null,
   "metadata": {},
   "outputs": [],
   "source": []
  }
 ],
 "metadata": {
  "kernelspec": {
   "display_name": "Python 3 (ipykernel)",
   "language": "python",
   "name": "python3"
  },
  "language_info": {
   "codemirror_mode": {
    "name": "ipython",
    "version": 3
   },
   "file_extension": ".py",
   "mimetype": "text/x-python",
   "name": "python",
   "nbconvert_exporter": "python",
   "pygments_lexer": "ipython3",
   "version": "3.9.12"
  }
 },
 "nbformat": 4,
 "nbformat_minor": 4
}
